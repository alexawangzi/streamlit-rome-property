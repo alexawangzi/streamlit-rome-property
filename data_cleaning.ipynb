{
 "cells": [
  {
   "cell_type": "code",
   "execution_count": 8,
   "metadata": {},
   "outputs": [],
   "source": [
    "import pandas as pd"
   ]
  },
  {
   "cell_type": "code",
   "execution_count": 9,
   "metadata": {},
   "outputs": [
    {
     "name": "stderr",
     "output_type": "stream",
     "text": [
      "/Users/ziwang/opt/anaconda3/lib/python3.7/site-packages/IPython/core/interactiveshell.py:3063: DtypeWarning: Columns (24,27,28) have mixed types.Specify dtype option on import or set low_memory=False.\n",
      "  interactivity=interactivity, compiler=compiler, result=result)\n"
     ]
    }
   ],
   "source": [
    "df = pd.read_csv(\"./datasets/italy/rome/Italy-rome_Monthly_Match_2020-01-09.csv\")"
   ]
  },
  {
   "cell_type": "code",
   "execution_count": 10,
   "metadata": {},
   "outputs": [
    {
     "data": {
      "text/plain": [
       "(2193168, 29)"
      ]
     },
     "execution_count": 10,
     "metadata": {},
     "output_type": "execute_result"
    }
   ],
   "source": [
    "df.shape"
   ]
  },
  {
   "cell_type": "code",
   "execution_count": 11,
   "metadata": {},
   "outputs": [
    {
     "data": {
      "text/html": [
       "<div>\n",
       "<style scoped>\n",
       "    .dataframe tbody tr th:only-of-type {\n",
       "        vertical-align: middle;\n",
       "    }\n",
       "\n",
       "    .dataframe tbody tr th {\n",
       "        vertical-align: top;\n",
       "    }\n",
       "\n",
       "    .dataframe thead th {\n",
       "        text-align: right;\n",
       "    }\n",
       "</style>\n",
       "<table border=\"1\" class=\"dataframe\">\n",
       "  <thead>\n",
       "    <tr style=\"text-align: right;\">\n",
       "      <th></th>\n",
       "      <th>Property ID</th>\n",
       "      <th>Property Type</th>\n",
       "      <th>Listing Type</th>\n",
       "      <th>Bedrooms</th>\n",
       "      <th>Reporting Month</th>\n",
       "      <th>Occupancy Rate</th>\n",
       "      <th>Revenue (USD)</th>\n",
       "      <th>Revenue (Native)</th>\n",
       "      <th>ADR (USD)</th>\n",
       "      <th>ADR (Native)</th>\n",
       "      <th>...</th>\n",
       "      <th>Metropolitan Statistical Area</th>\n",
       "      <th>Latitude</th>\n",
       "      <th>Longitude</th>\n",
       "      <th>Active</th>\n",
       "      <th>Scraped During Month</th>\n",
       "      <th>Currency Native</th>\n",
       "      <th>Airbnb Property ID</th>\n",
       "      <th>Airbnb Host ID</th>\n",
       "      <th>HomeAway Property ID</th>\n",
       "      <th>HomeAway Property Manager</th>\n",
       "    </tr>\n",
       "  </thead>\n",
       "  <tbody>\n",
       "    <tr>\n",
       "      <th>0</th>\n",
       "      <td>ab-30143453</td>\n",
       "      <td>Apartment</td>\n",
       "      <td>Private room</td>\n",
       "      <td>1.0</td>\n",
       "      <td>2019-01-01</td>\n",
       "      <td>0.065</td>\n",
       "      <td>65.0</td>\n",
       "      <td>57.78</td>\n",
       "      <td>32.50</td>\n",
       "      <td>28.89</td>\n",
       "      <td>...</td>\n",
       "      <td>NaN</td>\n",
       "      <td>41.89894</td>\n",
       "      <td>12.43293</td>\n",
       "      <td>True</td>\n",
       "      <td>True</td>\n",
       "      <td>EUR</td>\n",
       "      <td>30143453.0</td>\n",
       "      <td>5835676.0</td>\n",
       "      <td>NaN</td>\n",
       "      <td>NaN</td>\n",
       "    </tr>\n",
       "    <tr>\n",
       "      <th>1</th>\n",
       "      <td>ab-30143453</td>\n",
       "      <td>Apartment</td>\n",
       "      <td>Private room</td>\n",
       "      <td>1.0</td>\n",
       "      <td>2019-02-01</td>\n",
       "      <td>0.750</td>\n",
       "      <td>708.0</td>\n",
       "      <td>621.97</td>\n",
       "      <td>33.71</td>\n",
       "      <td>29.62</td>\n",
       "      <td>...</td>\n",
       "      <td>NaN</td>\n",
       "      <td>41.89894</td>\n",
       "      <td>12.43293</td>\n",
       "      <td>True</td>\n",
       "      <td>True</td>\n",
       "      <td>EUR</td>\n",
       "      <td>30143453.0</td>\n",
       "      <td>5835676.0</td>\n",
       "      <td>NaN</td>\n",
       "      <td>NaN</td>\n",
       "    </tr>\n",
       "    <tr>\n",
       "      <th>2</th>\n",
       "      <td>ab-30143453</td>\n",
       "      <td>Apartment</td>\n",
       "      <td>Private room</td>\n",
       "      <td>1.0</td>\n",
       "      <td>2019-03-01</td>\n",
       "      <td>0.839</td>\n",
       "      <td>915.0</td>\n",
       "      <td>815.44</td>\n",
       "      <td>35.19</td>\n",
       "      <td>31.36</td>\n",
       "      <td>...</td>\n",
       "      <td>NaN</td>\n",
       "      <td>41.89894</td>\n",
       "      <td>12.43293</td>\n",
       "      <td>True</td>\n",
       "      <td>True</td>\n",
       "      <td>EUR</td>\n",
       "      <td>30143453.0</td>\n",
       "      <td>5835676.0</td>\n",
       "      <td>NaN</td>\n",
       "      <td>NaN</td>\n",
       "    </tr>\n",
       "    <tr>\n",
       "      <th>3</th>\n",
       "      <td>ab-30143453</td>\n",
       "      <td>Apartment</td>\n",
       "      <td>Private room</td>\n",
       "      <td>1.0</td>\n",
       "      <td>2019-04-01</td>\n",
       "      <td>0.833</td>\n",
       "      <td>1400.0</td>\n",
       "      <td>1250.71</td>\n",
       "      <td>56.00</td>\n",
       "      <td>50.03</td>\n",
       "      <td>...</td>\n",
       "      <td>NaN</td>\n",
       "      <td>41.89894</td>\n",
       "      <td>12.43293</td>\n",
       "      <td>True</td>\n",
       "      <td>True</td>\n",
       "      <td>EUR</td>\n",
       "      <td>30143453.0</td>\n",
       "      <td>5835676.0</td>\n",
       "      <td>NaN</td>\n",
       "      <td>NaN</td>\n",
       "    </tr>\n",
       "    <tr>\n",
       "      <th>4</th>\n",
       "      <td>ab-30143453</td>\n",
       "      <td>Apartment</td>\n",
       "      <td>Private room</td>\n",
       "      <td>1.0</td>\n",
       "      <td>2019-05-01</td>\n",
       "      <td>0.774</td>\n",
       "      <td>1293.0</td>\n",
       "      <td>1160.18</td>\n",
       "      <td>53.88</td>\n",
       "      <td>48.34</td>\n",
       "      <td>...</td>\n",
       "      <td>NaN</td>\n",
       "      <td>41.89894</td>\n",
       "      <td>12.43293</td>\n",
       "      <td>True</td>\n",
       "      <td>True</td>\n",
       "      <td>EUR</td>\n",
       "      <td>30143453.0</td>\n",
       "      <td>5835676.0</td>\n",
       "      <td>NaN</td>\n",
       "      <td>NaN</td>\n",
       "    </tr>\n",
       "  </tbody>\n",
       "</table>\n",
       "<p>5 rows × 29 columns</p>\n",
       "</div>"
      ],
      "text/plain": [
       "   Property ID Property Type  Listing Type  Bedrooms Reporting Month  \\\n",
       "0  ab-30143453     Apartment  Private room       1.0      2019-01-01   \n",
       "1  ab-30143453     Apartment  Private room       1.0      2019-02-01   \n",
       "2  ab-30143453     Apartment  Private room       1.0      2019-03-01   \n",
       "3  ab-30143453     Apartment  Private room       1.0      2019-04-01   \n",
       "4  ab-30143453     Apartment  Private room       1.0      2019-05-01   \n",
       "\n",
       "   Occupancy Rate  Revenue (USD)  Revenue (Native)  ADR (USD)  ADR (Native)  \\\n",
       "0           0.065           65.0             57.78      32.50         28.89   \n",
       "1           0.750          708.0            621.97      33.71         29.62   \n",
       "2           0.839          915.0            815.44      35.19         31.36   \n",
       "3           0.833         1400.0           1250.71      56.00         50.03   \n",
       "4           0.774         1293.0           1160.18      53.88         48.34   \n",
       "\n",
       "   ...  Metropolitan Statistical Area  Latitude  Longitude  Active  \\\n",
       "0  ...                            NaN  41.89894   12.43293    True   \n",
       "1  ...                            NaN  41.89894   12.43293    True   \n",
       "2  ...                            NaN  41.89894   12.43293    True   \n",
       "3  ...                            NaN  41.89894   12.43293    True   \n",
       "4  ...                            NaN  41.89894   12.43293    True   \n",
       "\n",
       "  Scraped During Month Currency Native Airbnb Property ID  Airbnb Host ID  \\\n",
       "0                 True             EUR         30143453.0       5835676.0   \n",
       "1                 True             EUR         30143453.0       5835676.0   \n",
       "2                 True             EUR         30143453.0       5835676.0   \n",
       "3                 True             EUR         30143453.0       5835676.0   \n",
       "4                 True             EUR         30143453.0       5835676.0   \n",
       "\n",
       "  HomeAway Property ID  HomeAway Property Manager  \n",
       "0                  NaN                        NaN  \n",
       "1                  NaN                        NaN  \n",
       "2                  NaN                        NaN  \n",
       "3                  NaN                        NaN  \n",
       "4                  NaN                        NaN  \n",
       "\n",
       "[5 rows x 29 columns]"
      ]
     },
     "execution_count": 11,
     "metadata": {},
     "output_type": "execute_result"
    }
   ],
   "source": [
    "df.head()"
   ]
  },
  {
   "cell_type": "code",
   "execution_count": 12,
   "metadata": {},
   "outputs": [],
   "source": [
    "values = {\"Revenue (USD)\": 0, \n",
    "          \"Revenue (Native)\": 0, \n",
    "          \"ADR (USD)\": 0, \n",
    "          \"ADR (Native)\": 0,\n",
    "          \"Bedrooms\": 0,\n",
    "        \"Occupancy Rate\": 0,\n",
    "        \"Airbnb Host ID\": 0,\n",
    "         \"Neighborhood\": 'Not Specified',\n",
    "         \"Property Type\": 'Not Specified',\n",
    "         \"Listing Type\": 'Not Specified',}\n",
    "df.fillna(value=values, inplace=True)"
   ]
  },
  {
   "cell_type": "code",
   "execution_count": 13,
   "metadata": {},
   "outputs": [],
   "source": [
    "df.columns=df.columns.str.replace('(','')\n",
    "df.columns=df.columns.str.replace(')','')"
   ]
  },
  {
   "cell_type": "code",
   "execution_count": 14,
   "metadata": {},
   "outputs": [
    {
     "name": "stdout",
     "output_type": "stream",
     "text": [
      "<class 'pandas.core.frame.DataFrame'>\n",
      "RangeIndex: 2193168 entries, 0 to 2193167\n",
      "Data columns (total 29 columns):\n",
      " #   Column                         Dtype  \n",
      "---  ------                         -----  \n",
      " 0   Property ID                    object \n",
      " 1   Property Type                  object \n",
      " 2   Listing Type                   object \n",
      " 3   Bedrooms                       float64\n",
      " 4   Reporting Month                object \n",
      " 5   Occupancy Rate                 float64\n",
      " 6   Revenue USD                    float64\n",
      " 7   Revenue Native                 float64\n",
      " 8   ADR USD                        float64\n",
      " 9   ADR Native                     float64\n",
      " 10  Number of Reservations         int64  \n",
      " 11  Reservation Days               int64  \n",
      " 12  Available Days                 int64  \n",
      " 13  Blocked Days                   int64  \n",
      " 14  Country                        object \n",
      " 15  State                          object \n",
      " 16  City                           object \n",
      " 17  Zipcode                        float64\n",
      " 18  Neighborhood                   object \n",
      " 19  Metropolitan Statistical Area  float64\n",
      " 20  Latitude                       float64\n",
      " 21  Longitude                      float64\n",
      " 22  Active                         bool   \n",
      " 23  Scraped During Month           bool   \n",
      " 24  Currency Native                object \n",
      " 25  Airbnb Property ID             float64\n",
      " 26  Airbnb Host ID                 float64\n",
      " 27  HomeAway Property ID           object \n",
      " 28  HomeAway Property Manager      object \n",
      "dtypes: bool(2), float64(12), int64(4), object(11)\n",
      "memory usage: 456.0+ MB\n"
     ]
    }
   ],
   "source": [
    "df.info()"
   ]
  },
  {
   "cell_type": "code",
   "execution_count": 15,
   "metadata": {},
   "outputs": [
    {
     "data": {
      "text/plain": [
       "Property ID                            0\n",
       "Property Type                          0\n",
       "Listing Type                           0\n",
       "Bedrooms                               0\n",
       "Reporting Month                        0\n",
       "Occupancy Rate                         0\n",
       "Revenue USD                            0\n",
       "Revenue Native                         0\n",
       "ADR USD                                0\n",
       "ADR Native                             0\n",
       "Number of Reservations                 0\n",
       "Reservation Days                       0\n",
       "Available Days                         0\n",
       "Blocked Days                           0\n",
       "Country                             1364\n",
       "State                               1364\n",
       "City                                   0\n",
       "Zipcode                          2193168\n",
       "Neighborhood                           0\n",
       "Metropolitan Statistical Area    2193168\n",
       "Latitude                               0\n",
       "Longitude                              0\n",
       "Active                                 0\n",
       "Scraped During Month                   0\n",
       "Currency Native                   317808\n",
       "Airbnb Property ID                303539\n",
       "Airbnb Host ID                         0\n",
       "HomeAway Property ID             1787279\n",
       "HomeAway Property Manager        2133605\n",
       "dtype: int64"
      ]
     },
     "execution_count": 15,
     "metadata": {},
     "output_type": "execute_result"
    }
   ],
   "source": [
    "df.isna().sum()"
   ]
  },
  {
   "cell_type": "code",
   "execution_count": null,
   "metadata": {},
   "outputs": [],
   "source": []
  },
  {
   "cell_type": "code",
   "execution_count": 16,
   "metadata": {},
   "outputs": [
    {
     "data": {
      "text/plain": [
       "Property ID                            0\n",
       "Property Type                          0\n",
       "Listing Type                           0\n",
       "Bedrooms                               0\n",
       "Reporting Month                        0\n",
       "Occupancy Rate                         0\n",
       "Revenue USD                            0\n",
       "Revenue Native                         0\n",
       "ADR USD                                0\n",
       "ADR Native                             0\n",
       "Number of Reservations                 0\n",
       "Reservation Days                       0\n",
       "Available Days                         0\n",
       "Blocked Days                           0\n",
       "Country                             1364\n",
       "State                               1364\n",
       "City                                   0\n",
       "Zipcode                          2193168\n",
       "Neighborhood                           0\n",
       "Metropolitan Statistical Area    2193168\n",
       "Latitude                               0\n",
       "Longitude                              0\n",
       "Active                                 0\n",
       "Scraped During Month                   0\n",
       "Currency Native                   317808\n",
       "Airbnb Property ID                303539\n",
       "Airbnb Host ID                         0\n",
       "HomeAway Property ID             1787279\n",
       "HomeAway Property Manager        2133605\n",
       "dtype: int64"
      ]
     },
     "execution_count": 16,
     "metadata": {},
     "output_type": "execute_result"
    }
   ],
   "source": [
    "df.isna().sum()"
   ]
  },
  {
   "cell_type": "code",
   "execution_count": 17,
   "metadata": {},
   "outputs": [],
   "source": [
    "to_drop = [ 'Country', 'State', 'City', 'Zipcode','Metropolitan Statistical Area', \n",
    "       'Scraped During Month', 'Currency Native', 'Airbnb Property ID',\n",
    "        'HomeAway Property ID', 'HomeAway Property Manager']"
   ]
  },
  {
   "cell_type": "code",
   "execution_count": 18,
   "metadata": {},
   "outputs": [],
   "source": [
    "df.drop(to_drop, axis=1,inplace=True)"
   ]
  },
  {
   "cell_type": "code",
   "execution_count": 19,
   "metadata": {},
   "outputs": [
    {
     "name": "stdout",
     "output_type": "stream",
     "text": [
      "<class 'pandas.core.frame.DataFrame'>\n",
      "RangeIndex: 2193168 entries, 0 to 2193167\n",
      "Data columns (total 19 columns):\n",
      " #   Column                  Dtype  \n",
      "---  ------                  -----  \n",
      " 0   Property ID             object \n",
      " 1   Property Type           object \n",
      " 2   Listing Type            object \n",
      " 3   Bedrooms                float64\n",
      " 4   Reporting Month         object \n",
      " 5   Occupancy Rate          float64\n",
      " 6   Revenue USD             float64\n",
      " 7   Revenue Native          float64\n",
      " 8   ADR USD                 float64\n",
      " 9   ADR Native              float64\n",
      " 10  Number of Reservations  int64  \n",
      " 11  Reservation Days        int64  \n",
      " 12  Available Days          int64  \n",
      " 13  Blocked Days            int64  \n",
      " 14  Neighborhood            object \n",
      " 15  Latitude                float64\n",
      " 16  Longitude               float64\n",
      " 17  Active                  bool   \n",
      " 18  Airbnb Host ID          float64\n",
      "dtypes: bool(1), float64(9), int64(4), object(5)\n",
      "memory usage: 303.3+ MB\n"
     ]
    }
   ],
   "source": [
    "df.info()"
   ]
  },
  {
   "cell_type": "code",
   "execution_count": 20,
   "metadata": {},
   "outputs": [
    {
     "data": {
      "text/plain": [
       "Property ID               0\n",
       "Property Type             0\n",
       "Listing Type              0\n",
       "Bedrooms                  0\n",
       "Reporting Month           0\n",
       "Occupancy Rate            0\n",
       "Revenue USD               0\n",
       "Revenue Native            0\n",
       "ADR USD                   0\n",
       "ADR Native                0\n",
       "Number of Reservations    0\n",
       "Reservation Days          0\n",
       "Available Days            0\n",
       "Blocked Days              0\n",
       "Neighborhood              0\n",
       "Latitude                  0\n",
       "Longitude                 0\n",
       "Active                    0\n",
       "Airbnb Host ID            0\n",
       "dtype: int64"
      ]
     },
     "execution_count": 20,
     "metadata": {},
     "output_type": "execute_result"
    }
   ],
   "source": [
    "df.isna().sum()"
   ]
  },
  {
   "cell_type": "code",
   "execution_count": 21,
   "metadata": {},
   "outputs": [],
   "source": [
    "DATE_TIME ='Reporting Month'\n",
    "df[DATE_TIME] = pd.to_datetime(df[DATE_TIME])"
   ]
  },
  {
   "cell_type": "code",
   "execution_count": 22,
   "metadata": {},
   "outputs": [],
   "source": [
    "df.columns=df.columns.str.replace(' ','_')"
   ]
  },
  {
   "cell_type": "code",
   "execution_count": 23,
   "metadata": {},
   "outputs": [],
   "source": [
    "df.to_csv('cleaned.csv', index=False)"
   ]
  },
  {
   "cell_type": "markdown",
   "metadata": {},
   "source": [
    "# Rome tourist sites"
   ]
  },
  {
   "cell_type": "code",
   "execution_count": 24,
   "metadata": {},
   "outputs": [],
   "source": [
    "sites = pd.read_csv('./datasets/italy/rome//tourist_site_rome.csv', header=None)"
   ]
  },
  {
   "cell_type": "code",
   "execution_count": 25,
   "metadata": {},
   "outputs": [
    {
     "data": {
      "text/html": [
       "<div>\n",
       "<style scoped>\n",
       "    .dataframe tbody tr th:only-of-type {\n",
       "        vertical-align: middle;\n",
       "    }\n",
       "\n",
       "    .dataframe tbody tr th {\n",
       "        vertical-align: top;\n",
       "    }\n",
       "\n",
       "    .dataframe thead th {\n",
       "        text-align: right;\n",
       "    }\n",
       "</style>\n",
       "<table border=\"1\" class=\"dataframe\">\n",
       "  <thead>\n",
       "    <tr style=\"text-align: right;\">\n",
       "      <th></th>\n",
       "      <th>0</th>\n",
       "      <th>1</th>\n",
       "      <th>2</th>\n",
       "      <th>3</th>\n",
       "    </tr>\n",
       "  </thead>\n",
       "  <tbody>\n",
       "    <tr>\n",
       "      <th>0</th>\n",
       "      <td>Name</td>\n",
       "      <td>Longitude</td>\n",
       "      <td>Latitude</td>\n",
       "      <td>Icon_Path</td>\n",
       "    </tr>\n",
       "    <tr>\n",
       "      <th>1</th>\n",
       "      <td>The Colosseum</td>\n",
       "      <td>12.49231</td>\n",
       "      <td>41.89018</td>\n",
       "      <td>https://upload.wikimedia.org/wikipedia/commons...</td>\n",
       "    </tr>\n",
       "    <tr>\n",
       "      <th>2</th>\n",
       "      <td>The Trevi Fountain</td>\n",
       "      <td>12.48331</td>\n",
       "      <td>41.90094</td>\n",
       "      <td>https://upload.wikimedia.org/wikipedia/commons...</td>\n",
       "    </tr>\n",
       "    <tr>\n",
       "      <th>3</th>\n",
       "      <td>The Pantheon</td>\n",
       "      <td>12.47684</td>\n",
       "      <td>41.89861</td>\n",
       "      <td>https://upload.wikimedia.org/wikipedia/commons...</td>\n",
       "    </tr>\n",
       "    <tr>\n",
       "      <th>4</th>\n",
       "      <td>The Roman Forum</td>\n",
       "      <td>12.48433</td>\n",
       "      <td>41.89248</td>\n",
       "      <td>https://upload.wikimedia.org/wikipedia/commons...</td>\n",
       "    </tr>\n",
       "    <tr>\n",
       "      <th>5</th>\n",
       "      <td>The Spanish Steps</td>\n",
       "      <td>12.48244</td>\n",
       "      <td>41.90578</td>\n",
       "      <td>https://upload.wikimedia.org/wikipedia/commons...</td>\n",
       "    </tr>\n",
       "    <tr>\n",
       "      <th>6</th>\n",
       "      <td>Piazza Navona</td>\n",
       "      <td>12.47332</td>\n",
       "      <td>41.89849</td>\n",
       "      <td>https://upload.wikimedia.org/wikipedia/commons...</td>\n",
       "    </tr>\n",
       "    <tr>\n",
       "      <th>7</th>\n",
       "      <td>Castel Sant'Angelo Fortress</td>\n",
       "      <td>12.46629</td>\n",
       "      <td>41.90308</td>\n",
       "      <td>https://upload.wikimedia.org/wikipedia/commons...</td>\n",
       "    </tr>\n",
       "    <tr>\n",
       "      <th>8</th>\n",
       "      <td>The Vittorio Emanuele II Monument</td>\n",
       "      <td>12.47332</td>\n",
       "      <td>41.89677</td>\n",
       "      <td>https://upload.wikimedia.org/wikipedia/commons...</td>\n",
       "    </tr>\n",
       "    <tr>\n",
       "      <th>9</th>\n",
       "      <td>Vatican Museums</td>\n",
       "      <td>12.45498</td>\n",
       "      <td>41.90507</td>\n",
       "      <td>https://upload.wikimedia.org/wikipedia/commons...</td>\n",
       "    </tr>\n",
       "    <tr>\n",
       "      <th>10</th>\n",
       "      <td>St. Peter's Basilica</td>\n",
       "      <td>12.45305</td>\n",
       "      <td>41.90221</td>\n",
       "      <td>https://upload.wikimedia.org/wikipedia/commons...</td>\n",
       "    </tr>\n",
       "  </tbody>\n",
       "</table>\n",
       "</div>"
      ],
      "text/plain": [
       "                                    0          1         2  \\\n",
       "0                                Name  Longitude  Latitude   \n",
       "1                       The Colosseum   12.49231  41.89018   \n",
       "2                  The Trevi Fountain   12.48331  41.90094   \n",
       "3                        The Pantheon   12.47684  41.89861   \n",
       "4                     The Roman Forum   12.48433  41.89248   \n",
       "5                   The Spanish Steps   12.48244  41.90578   \n",
       "6                       Piazza Navona   12.47332  41.89849   \n",
       "7         Castel Sant'Angelo Fortress   12.46629  41.90308   \n",
       "8   The Vittorio Emanuele II Monument   12.47332  41.89677   \n",
       "9                     Vatican Museums   12.45498  41.90507   \n",
       "10               St. Peter's Basilica   12.45305  41.90221   \n",
       "\n",
       "                                                    3  \n",
       "0                                           Icon_Path  \n",
       "1   https://upload.wikimedia.org/wikipedia/commons...  \n",
       "2   https://upload.wikimedia.org/wikipedia/commons...  \n",
       "3   https://upload.wikimedia.org/wikipedia/commons...  \n",
       "4   https://upload.wikimedia.org/wikipedia/commons...  \n",
       "5   https://upload.wikimedia.org/wikipedia/commons...  \n",
       "6   https://upload.wikimedia.org/wikipedia/commons...  \n",
       "7   https://upload.wikimedia.org/wikipedia/commons...  \n",
       "8   https://upload.wikimedia.org/wikipedia/commons...  \n",
       "9   https://upload.wikimedia.org/wikipedia/commons...  \n",
       "10  https://upload.wikimedia.org/wikipedia/commons...  "
      ]
     },
     "execution_count": 25,
     "metadata": {},
     "output_type": "execute_result"
    }
   ],
   "source": [
    "sites"
   ]
  },
  {
   "cell_type": "code",
   "execution_count": null,
   "metadata": {},
   "outputs": [],
   "source": []
  },
  {
   "cell_type": "code",
   "execution_count": null,
   "metadata": {},
   "outputs": [],
   "source": []
  }
 ],
 "metadata": {
  "kernelspec": {
   "display_name": "Python 3",
   "language": "python",
   "name": "python3"
  },
  "language_info": {
   "codemirror_mode": {
    "name": "ipython",
    "version": 3
   },
   "file_extension": ".py",
   "mimetype": "text/x-python",
   "name": "python",
   "nbconvert_exporter": "python",
   "pygments_lexer": "ipython3",
   "version": "3.7.6"
  }
 },
 "nbformat": 4,
 "nbformat_minor": 5
}
